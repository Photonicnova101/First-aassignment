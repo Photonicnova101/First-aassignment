{
 "metadata": {
  "language_info": {
   "codemirror_mode": {
    "name": "ipython",
    "version": 3
   },
   "file_extension": ".py",
   "mimetype": "text/x-python",
   "name": "python",
   "nbconvert_exporter": "python",
   "pygments_lexer": "ipython3",
   "version": "3.8.5-final"
  },
  "orig_nbformat": 2,
  "kernelspec": {
   "name": "python_defaultSpec_1600130425843",
   "display_name": "Python 3.8.5 64-bit"
  }
 },
 "nbformat": 4,
 "nbformat_minor": 2,
 "cells": [
  {
   "cell_type": "code",
   "execution_count": 5,
   "metadata": {},
   "outputs": [],
   "source": [
    "import numpy as np\n",
    "import torch\n",
    "import torchvision\n",
    "import torch.nn as nn\n",
    "import torch.nn.functional as F\n",
    "from torchvision import transforms, datasets\n",
    "\n",
    "\n",
    "class Net(nn.Module):\n",
    "    def __init__(self):\n",
    "        super().__init__()\n",
    "        # 784 is 28*28 but flattened\n",
    "        # the first self is the input layer, the middle two are hidden layers and the last is the output layer\n",
    "        self.fc1 = nn.Linear(784, 64)\n",
    "        self.fc2 = nn.Linear(64, 64)\n",
    "        self.fc3 = nn.Linear(64, 64)\n",
    "        # output layer is 10 neurons for 10 classes\n",
    "        self.fc4 = nn.Linear(64, 10)\n",
    "\n",
    "    \n",
    "    def forward(self, x):\n",
    "      #activation function is rectified linear or .relu\n",
    "        x = F.relu(self.fc1(x))\n",
    "        x = F.relu(self.fc2(x))\n",
    "        x = F.relu(self.fc3(x))\n",
    "        x = F.relu(self.fc4(x))\n",
    "\n",
    "    def gabor (self, sigma, theta, Lambda, psi, gamma):\n",
    "        #Gabor feature extraction\n",
    "        sigma_x = sigma\n",
    "        sigma_y = float(sigma) / gamma\n",
    "\n",
    "    # Bounding box\n",
    "        nstds = 3  # Number of standard deviation sigma\n",
    "        xmax = max(abs(nstds * sigma_x * np.cos(theta)), abs(nstds * sigma_y * np.sin(theta)))\n",
    "        xmax = np.ceil(max(1, xmax))\n",
    "        ymax = max(abs(nstds * sigma_x * np.sin(theta)), abs(nstds * sigma_y * np.cos(theta)))\n",
    "        ymax = np.ceil(max(1, ymax))\n",
    "        xmin = -xmax\n",
    "        ymin = -ymax\n",
    "        (y, x) = np.meshgrid(np.arange(ymin, ymax + 1), np.arange(xmin, xmax + 1))\n",
    "\n",
    "    # Rotation\n",
    "        x_theta = x * np.cos(theta) + y * np.sin(theta)\n",
    "        y_theta = -x * np.sin(theta) + y * np.cos(theta)\n",
    "\n",
    "        gb = np.exp(-.5 * (x_theta ** 2 / sigma_x ** 2 + y_theta ** 2 / sigma_y ** 2)) * np.cos(2 * np.pi / Lambda * x_theta + psi)\n",
    "        return gb"
   ]
  },
  {
   "cell_type": "code",
   "execution_count": null,
   "metadata": {},
   "outputs": [],
   "source": []
  }
 ]
}